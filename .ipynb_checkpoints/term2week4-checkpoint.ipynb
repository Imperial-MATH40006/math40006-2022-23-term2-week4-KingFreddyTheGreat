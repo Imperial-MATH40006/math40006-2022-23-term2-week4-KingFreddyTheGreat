{
 "cells": [
  {
   "cell_type": "code",
   "execution_count": 153,
   "metadata": {},
   "outputs": [],
   "source": [
    "from autograder_term2week4 import *\n",
    "_globals = globals()\n",
    "import numpy as np\n",
    "import random as rnd\n",
    "import numpy.random as nrnd\n",
    "import matplotlib.pyplot as plt\n",
    "from mpl_toolkits.mplot3d import Axes3D\n",
    "%matplotlib inline"
   ]
  },
  {
   "cell_type": "markdown",
   "metadata": {
    "deletable": false,
    "editable": false,
    "nbgrader": {
     "cell_type": "markdown",
     "checksum": "f0dabab28b711cd6efbdb6e1cd194c1d",
     "grade": false,
     "grade_id": "cell-9a2d6548d091858f",
     "locked": true,
     "schema_version": 3,
     "solution": false,
     "task": false
    }
   },
   "source": [
    "# <center> Introduction to Mathematical Computing </center>\n",
    "### <center>Phil Ramsden, Boumediene Hamzi, Sam Brzezicki</center>\n",
    "\n",
    "# <center> Worksheet 8: random, numpy.random and matplotlib.pyplot</center>\n",
    "\n",
    "**NOTE:** When answering a question, remember to remove the `raise NotImplementedError()` line."
   ]
  },
  {
   "cell_type": "markdown",
   "metadata": {
    "deletable": false,
    "editable": false,
    "nbgrader": {
     "cell_type": "markdown",
     "checksum": "0e4e47ff48e2ae68957dd84124489909",
     "grade": false,
     "grade_id": "cell-4e52cc4a449c1686",
     "locked": true,
     "schema_version": 3,
     "solution": false,
     "task": false
    }
   },
   "source": [
    "## Question 0: don't miss this bit!\n",
    "\n",
    "In the file called `my_username.txt`, type your <b>short-form College user name</b> (this will usually be one or more letters followed by three or more figures, such as qk4019). Don't use quote marks. Then save the file."
   ]
  },
  {
   "cell_type": "code",
   "execution_count": 3,
   "metadata": {
    "deletable": false,
    "editable": false,
    "nbgrader": {
     "cell_type": "code",
     "checksum": "9118f6eaa529f08dc88e00bd60b1bad5",
     "grade": true,
     "grade_id": "cell-e651f6a984190fff",
     "locked": true,
     "points": 5,
     "schema_version": 3,
     "solution": false,
     "task": false
    }
   },
   "outputs": [
    {
     "name": "stdout",
     "output_type": "stream",
     "text": [
      "You've changed the contents of the file; thank you!\n",
      "Your username has been recognised; thank you!\n",
      "\n",
      "5 out of 5 marks\n"
     ]
    },
    {
     "data": {
      "text/plain": [
       "5"
      ]
     },
     "execution_count": 3,
     "metadata": {},
     "output_type": "execute_result"
    }
   ],
   "source": [
    "# 5 Marks\n",
    "# Do not try to delete this cell\n",
    "# Run this cell for grading of Question 0\n",
    "_globals = globals()\n",
    "question0(_globals)"
   ]
  },
  {
   "cell_type": "markdown",
   "metadata": {
    "deletable": false,
    "editable": false,
    "nbgrader": {
     "cell_type": "markdown",
     "checksum": "6ca098041134857b110a900be8874832",
     "grade": false,
     "grade_id": "cell-5bc1ef50e4db19b0",
     "locked": true,
     "schema_version": 3,
     "solution": false,
     "task": false
    }
   },
   "source": [
    "## Question 1\n",
    "\n",
    "(a) Using the `random` function from the `random` module in a comprehension, or otherwise, create a list of 10 random floats between 0 and 1, calling it `randlist10`."
   ]
  },
  {
   "cell_type": "code",
   "execution_count": 4,
   "metadata": {
    "deletable": false,
    "nbgrader": {
     "cell_type": "code",
     "checksum": "d3dba98851428c43a11af9e6930e1177",
     "grade": false,
     "grade_id": "cell-8effae7d5d727daf",
     "locked": false,
     "schema_version": 3,
     "solution": true,
     "task": false
    }
   },
   "outputs": [
    {
     "name": "stdout",
     "output_type": "stream",
     "text": [
      "[0.6070014305039676, 0.6853852923900491, 0.02380031981378805, 0.5735644090312467, 0.06034513486715898, 0.45381860644792826, 0.5809084210557419, 0.4861243128193534, 0.16228720708111766, 0.06375978247928304]\n"
     ]
    }
   ],
   "source": [
    "import random\n",
    "randlist10 = [random.random() for x in range(10)]\n",
    "\n",
    "print(randlist10)"
   ]
  },
  {
   "cell_type": "code",
   "execution_count": 5,
   "metadata": {
    "deletable": false,
    "editable": false,
    "nbgrader": {
     "cell_type": "code",
     "checksum": "06b13707d94cfa317a0433db9be20d37",
     "grade": true,
     "grade_id": "cell-3bb8a366d0cd2f16",
     "locked": true,
     "points": 1,
     "schema_version": 3,
     "solution": false,
     "task": false
    }
   },
   "outputs": [
    {
     "name": "stdout",
     "output_type": "stream",
     "text": [
      "randlist10 is a list\n",
      "randlist10 has correct length\n",
      "randlist10 consists of floats\n",
      "The elements of randlist10 are in the correct range\n",
      "Test passed!\n"
     ]
    },
    {
     "data": {
      "text/plain": [
       "1"
      ]
     },
     "execution_count": 5,
     "metadata": {},
     "output_type": "execute_result"
    }
   ],
   "source": [
    "# 1 Mark\n",
    "# Do not try to delete this cell\n",
    "# Run this cell for grading\n",
    "_globals = globals()\n",
    "question1a(_globals)"
   ]
  },
  {
   "cell_type": "markdown",
   "metadata": {
    "deletable": false,
    "editable": false,
    "nbgrader": {
     "cell_type": "markdown",
     "checksum": "b1b60e21a7308f02e9bfffbaf42349f2",
     "grade": false,
     "grade_id": "cell-dbc5e5fdfd51d489",
     "locked": true,
     "schema_version": 3,
     "solution": false,
     "task": false
    }
   },
   "source": [
    "(b) Using a single call to the `random` function from the `numpy.random` submodule (a comprehension or loop shouldn't be necessary), create an <em>array</em> of ten random floats between 0 and 1, calling it `randarray10`."
   ]
  },
  {
   "cell_type": "code",
   "execution_count": 6,
   "metadata": {
    "deletable": false,
    "nbgrader": {
     "cell_type": "code",
     "checksum": "74e5a5c765c76bc150440ae22dc5d96c",
     "grade": false,
     "grade_id": "cell-8aa73d4f6c33fc13",
     "locked": false,
     "schema_version": 3,
     "solution": true,
     "task": false
    }
   },
   "outputs": [
    {
     "name": "stdout",
     "output_type": "stream",
     "text": [
      "[0.29175568 0.93866276 0.78068628 0.2050763  0.41421252 0.81793416\n",
      " 0.82838061 0.20090833 0.20679937 0.7260396 ]\n"
     ]
    }
   ],
   "source": [
    "randarray10 = np.random.random(10)\n",
    "print(randarray10)"
   ]
  },
  {
   "cell_type": "code",
   "execution_count": 7,
   "metadata": {
    "deletable": false,
    "editable": false,
    "nbgrader": {
     "cell_type": "code",
     "checksum": "cd3b050adb5878124b87b35c726157fe",
     "grade": true,
     "grade_id": "cell-ce170d2b98f8e75d",
     "locked": true,
     "points": 1,
     "schema_version": 3,
     "solution": false,
     "task": false
    }
   },
   "outputs": [
    {
     "name": "stdout",
     "output_type": "stream",
     "text": [
      "randarray10 is a numpy array\n",
      "randarray10 is 1D and of length 10\n",
      "randarray10 consists of floats\n",
      "The elements of randarray10 are in the correct range\n",
      "Test passed!\n"
     ]
    },
    {
     "data": {
      "text/plain": [
       "1"
      ]
     },
     "execution_count": 7,
     "metadata": {},
     "output_type": "execute_result"
    }
   ],
   "source": [
    "# 1 Mark\n",
    "# Do not try to delete this cell\n",
    "# Run this cell for grading\n",
    "_globals = globals()\n",
    "question1b(_globals)"
   ]
  },
  {
   "cell_type": "markdown",
   "metadata": {
    "deletable": false,
    "editable": false,
    "nbgrader": {
     "cell_type": "markdown",
     "checksum": "624ec299aac7a49b9039dd6381ad7d1f",
     "grade": false,
     "grade_id": "cell-ee0e74dcf3241947",
     "locked": true,
     "schema_version": 3,
     "solution": false,
     "task": false
    }
   },
   "source": [
    "(c) Using a single call to the `random` function from the `numpy.random` submodule, create a 20 by 10 array of random floats between 0 and 1, calling it `randarray20by10`."
   ]
  },
  {
   "cell_type": "code",
   "execution_count": 8,
   "metadata": {
    "deletable": false,
    "nbgrader": {
     "cell_type": "code",
     "checksum": "6daa847ecf4b08c3117aaf9939ff0fa9",
     "grade": false,
     "grade_id": "cell-5af25bc81361e627",
     "locked": false,
     "schema_version": 3,
     "solution": true,
     "task": false
    }
   },
   "outputs": [
    {
     "name": "stdout",
     "output_type": "stream",
     "text": [
      "[[0.41201423 0.13495426 0.50869603 0.13727345 0.85459094 0.78541149\n",
      "  0.11425613 0.45653419 0.75411457 0.94350096]\n",
      " [0.02894443 0.58423516 0.57546538 0.15979659 0.55735537 0.20766502\n",
      "  0.42109619 0.34082775 0.44569053 0.48404141]\n",
      " [0.40140912 0.28458745 0.64020024 0.66070987 0.08207807 0.99409545\n",
      "  0.84504075 0.66403477 0.63430171 0.92067406]\n",
      " [0.62828386 0.49516206 0.25033702 0.6853837  0.74062125 0.18467647\n",
      "  0.05069214 0.35863208 0.19841097 0.99047808]\n",
      " [0.67564577 0.58448254 0.21687055 0.26389899 0.26476231 0.54291273\n",
      "  0.67854365 0.49425766 0.95226328 0.61011551]\n",
      " [0.73553199 0.32037034 0.13114444 0.55031178 0.08592174 0.05980732\n",
      "  0.13461133 0.36538374 0.56329392 0.07880184]\n",
      " [0.62208107 0.01929011 0.2607648  0.7827     0.17474908 0.29799912\n",
      "  0.02534393 0.90944498 0.42645794 0.52327279]\n",
      " [0.89323852 0.97123737 0.71061398 0.3673629  0.03919431 0.50488366\n",
      "  0.47335115 0.7136426  0.92302014 0.97905624]\n",
      " [0.14692161 0.28761549 0.11577372 0.31011377 0.55713086 0.24001597\n",
      "  0.55636714 0.79419595 0.8273677  0.02761931]\n",
      " [0.72098105 0.69698302 0.22016523 0.76442476 0.12554301 0.61534933\n",
      "  0.70721094 0.32833864 0.22677658 0.68683186]\n",
      " [0.06010328 0.41203696 0.93841478 0.62998758 0.1015149  0.89286802\n",
      "  0.49408573 0.19630547 0.27925237 0.32333889]\n",
      " [0.65585208 0.43162877 0.97263565 0.04831754 0.40725482 0.3329746\n",
      "  0.98132527 0.82900384 0.90159671 0.78527486]\n",
      " [0.23146012 0.89771494 0.05177019 0.85878682 0.65475091 0.72367487\n",
      "  0.55434306 0.60346968 0.8009295  0.1482288 ]\n",
      " [0.49914419 0.70053693 0.25980937 0.05189267 0.6408968  0.12450479\n",
      "  0.50127931 0.59599421 0.85481798 0.00196922]\n",
      " [0.61070056 0.22418964 0.63834927 0.24558786 0.53360955 0.96208896\n",
      "  0.86512474 0.12286772 0.61022933 0.34151616]\n",
      " [0.31547956 0.70498713 0.48894453 0.51963231 0.31333994 0.94104801\n",
      "  0.18226848 0.11564113 0.95973287 0.70920459]\n",
      " [0.65224572 0.15878311 0.1370967  0.9782499  0.82288018 0.82674053\n",
      "  0.42332308 0.61359453 0.20881942 0.33535784]\n",
      " [0.19036646 0.30819613 0.54257164 0.41667006 0.8410432  0.01880131\n",
      "  0.67356268 0.20300811 0.94662992 0.42677859]\n",
      " [0.79882612 0.96124776 0.64809403 0.07309649 0.12699592 0.24761177\n",
      "  0.50181384 0.15640217 0.17746911 0.63759911]\n",
      " [0.1010887  0.86597645 0.38814018 0.60717508 0.46060248 0.87467273\n",
      "  0.12794634 0.27228431 0.23376514 0.20160489]]\n"
     ]
    }
   ],
   "source": [
    "randarray20by10 = np.random.random((20,10))\n",
    "print(randarray20by10)"
   ]
  },
  {
   "cell_type": "code",
   "execution_count": 9,
   "metadata": {
    "deletable": false,
    "editable": false,
    "nbgrader": {
     "cell_type": "code",
     "checksum": "25fad1e0e2e3e2d55106c293ffe906dd",
     "grade": true,
     "grade_id": "cell-fca540c130798a46",
     "locked": true,
     "points": 1,
     "schema_version": 3,
     "solution": false,
     "task": false
    }
   },
   "outputs": [
    {
     "name": "stdout",
     "output_type": "stream",
     "text": [
      "randarray20by10 is a numpy array\n",
      "randarray20by10 is 20 by 10\n",
      "randarray20by10 consists of floats\n",
      "The elements of randarray20by10 are in the correct range\n",
      "Test passed!\n"
     ]
    },
    {
     "data": {
      "text/plain": [
       "1"
      ]
     },
     "execution_count": 9,
     "metadata": {},
     "output_type": "execute_result"
    }
   ],
   "source": [
    "# 1 Mark\n",
    "# Do not try to delete this cell\n",
    "# Run this cell for grading\n",
    "_globals = globals()\n",
    "question1c(_globals)"
   ]
  },
  {
   "cell_type": "markdown",
   "metadata": {
    "deletable": false,
    "editable": false,
    "nbgrader": {
     "cell_type": "markdown",
     "checksum": "8b5dbb3e7896836836efa0d3620d0d6b",
     "grade": false,
     "grade_id": "cell-9f99e6636bb7d61c",
     "locked": true,
     "schema_version": 3,
     "solution": false,
     "task": false
    }
   },
   "source": [
    "(d) Using the `mean` function from `numpy`, with the keyword argument `axis` set to 1, calculate the 20 means of the 20 rows of your 20 by 10 array, as an array called `mean20`."
   ]
  },
  {
   "cell_type": "code",
   "execution_count": 10,
   "metadata": {
    "deletable": false,
    "nbgrader": {
     "cell_type": "code",
     "checksum": "134758b6530fb99f117ccb75de67df15",
     "grade": false,
     "grade_id": "cell-afba63ef39f0040f",
     "locked": false,
     "schema_version": 3,
     "solution": true,
     "task": false
    }
   },
   "outputs": [
    {
     "name": "stdout",
     "output_type": "stream",
     "text": [
      "[0.51013463 0.38051178 0.61271315 0.45826776 0.5283753  0.30251784\n",
      " 0.40421038 0.65756009 0.38631215 0.50926044 0.4327908  0.63458641\n",
      " 0.55251289 0.42308455 0.51542638 0.52502786 0.5157091  0.45676281\n",
      " 0.43291563 0.41332563]\n"
     ]
    }
   ],
   "source": [
    "mean20 = np.mean(randarray20by10, axis=1)\n",
    "print(mean20)"
   ]
  },
  {
   "cell_type": "code",
   "execution_count": 11,
   "metadata": {
    "deletable": false,
    "editable": false,
    "nbgrader": {
     "cell_type": "code",
     "checksum": "3e0a83de4240308b4a909fddde552c0c",
     "grade": true,
     "grade_id": "cell-2a50ad10a36fbb2e",
     "locked": true,
     "points": 1,
     "schema_version": 3,
     "solution": false,
     "task": false
    }
   },
   "outputs": [
    {
     "name": "stdout",
     "output_type": "stream",
     "text": [
      "mean20 is a numpy array\n",
      "mean20 is 1D and of length 20\n",
      "mean20 consists of floats\n",
      "The elements of mean20 have the correct values\n",
      "Test passed!\n"
     ]
    },
    {
     "data": {
      "text/plain": [
       "1"
      ]
     },
     "execution_count": 11,
     "metadata": {},
     "output_type": "execute_result"
    }
   ],
   "source": [
    "# 1 Mark\n",
    "# Do not try to delete this cell\n",
    "# Run this cell for grading\n",
    "_globals = globals()\n",
    "question1d(_globals)"
   ]
  },
  {
   "cell_type": "markdown",
   "metadata": {
    "deletable": false,
    "editable": false,
    "nbgrader": {
     "cell_type": "markdown",
     "checksum": "68664ccc1fcc8ce93709c8d9985cdb7e",
     "grade": false,
     "grade_id": "cell-176270e3e7034b85",
     "locked": true,
     "schema_version": 3,
     "solution": false,
     "task": false
    }
   },
   "source": [
    "(e) Write and test a function called `rowmeans` which takes as its arguments two positive integers `nrows` and `ncols`, and returns an array with `nrows` elements, consisting of the means of each of the rows of an `nrows` by `ncols` array of random floats between 0 and 1."
   ]
  },
  {
   "cell_type": "code",
   "execution_count": 12,
   "metadata": {
    "deletable": false,
    "nbgrader": {
     "cell_type": "code",
     "checksum": "05fb00a2ac990c5d6019fb5b82dee3f2",
     "grade": false,
     "grade_id": "cell-fd01131afb84211e",
     "locked": false,
     "schema_version": 3,
     "solution": true,
     "task": false
    }
   },
   "outputs": [
    {
     "data": {
      "text/plain": [
       "array([0.19295685, 0.45349403])"
      ]
     },
     "execution_count": 12,
     "metadata": {},
     "output_type": "execute_result"
    }
   ],
   "source": [
    "def rowmeans(nrows, ncols):\n",
    "    matrix = np.random.random((nrows, ncols))\n",
    "    #print(matrix)\n",
    "    rowmean = np.mean(matrix, axis=1)\n",
    "    #print(rowmean)\n",
    "    return rowmean\n",
    "rowmeans(2,2)"
   ]
  },
  {
   "cell_type": "code",
   "execution_count": 13,
   "metadata": {
    "deletable": false,
    "editable": false,
    "nbgrader": {
     "cell_type": "code",
     "checksum": "53f70044afd5458c351df98b735cf88c",
     "grade": true,
     "grade_id": "cell-38309cec0bda6466",
     "locked": true,
     "points": 2,
     "schema_version": 3,
     "solution": false,
     "task": false
    }
   },
   "outputs": [
    {
     "name": "stdout",
     "output_type": "stream",
     "text": [
      "Testing: typical case\n",
      "Function returns a numpy array\n",
      "Function output has the correct dimensions\n",
      "Function output consists of floats\n",
      "The elements of the function output are in the correct range\n",
      "\n",
      "Testing: edge case\n",
      "Function returns a numpy array\n",
      "Function output has the correct dimensions\n",
      "Function output consists of floats\n",
      "The elements of the function output are in the correct range\n",
      "\n",
      "2 out of 2\n"
     ]
    },
    {
     "data": {
      "text/plain": [
       "2"
      ]
     },
     "execution_count": 13,
     "metadata": {},
     "output_type": "execute_result"
    }
   ],
   "source": [
    "# 2 Marks\n",
    "# Do not try to delete this cell\n",
    "# Run this cell for grading\n",
    "_globals = globals()\n",
    "question1e(_globals)"
   ]
  },
  {
   "cell_type": "markdown",
   "metadata": {
    "deletable": false,
    "editable": false,
    "nbgrader": {
     "cell_type": "markdown",
     "checksum": "3ac5f58be1dc40e8cee9f428c1f416c5",
     "grade": false,
     "grade_id": "cell-ff83abef544ce84a",
     "locked": true,
     "schema_version": 3,
     "solution": false,
     "task": false
    }
   },
   "source": [
    "(f) Write and test a function called `rowmeanshist` which takes as its arguments two positive integers `nrows` and `ncols`, and generates a histogram of `rowmeans(nrows, ncols)`."
   ]
  },
  {
   "cell_type": "code",
   "execution_count": 14,
   "metadata": {
    "deletable": false,
    "nbgrader": {
     "cell_type": "code",
     "checksum": "2fbc0a4b2a34d669f232651de522dac3",
     "grade": false,
     "grade_id": "cell-bd17254127375e4a",
     "locked": false,
     "schema_version": 3,
     "solution": true,
     "task": false
    },
    "scrolled": true
   },
   "outputs": [
    {
     "data": {
      "image/png": "[encoded data removed]",
      "text/plain": [
       "<Figure size 432x288 with 1 Axes>"
      ]
     },
     "metadata": {
      "needs_background": "light"
     },
     "output_type": "display_data"
    }
   ],
   "source": [
    "def rowmeanhist(nrows, ncols):\n",
    "    means = rowmeans(nrows, ncols)/ncols\n",
    "    #print(means)\n",
    "    plt.hist(means, bins=100)\n",
    "    #raise NotImplementedError()\n",
    "    \n",
    "rowmeanhist(100,1000)"
   ]
  },
  {
   "cell_type": "markdown",
   "metadata": {
    "deletable": false,
    "editable": false,
    "nbgrader": {
     "cell_type": "markdown",
     "checksum": "a0dd10ff6eed1531be251b9f41ff77d8",
     "grade": false,
     "grade_id": "cell-a7499617da2c7513",
     "locked": true,
     "schema_version": 3,
     "solution": false,
     "task": false
    }
   },
   "source": [
    "(g) Using your function investigate the distributions of the means for `nrows` equal to 400 and `ncols` equal to 1, 2, 4, 8 and 16.\n",
    "\n",
    "Which of the following statements is true?\n",
    "\n",
    "I. As the number of columns increases, the mean tends to increase.<br/>\n",
    "II. As the number of columns increases, the means tend to vary less.<br/>\n",
    "III. As the number of columns increases, the distribution of the means becomes more approximately normal.<br/>\n",
    "\n",
    "1. All of them.\n",
    "2. All of them except I.\n",
    "3. All of them except II.\n",
    "4. All of them except III."
   ]
  },
  {
   "cell_type": "code",
   "execution_count": 15,
   "metadata": {
    "deletable": false,
    "nbgrader": {
     "cell_type": "code",
     "checksum": "aeb30b91baac0ab9d338d3dbafb107fd",
     "grade": false,
     "grade_id": "cell-48bf614b9017ac21",
     "locked": false,
     "schema_version": 3,
     "solution": true,
     "task": false
    }
   },
   "outputs": [],
   "source": [
    "\n",
    "question1g_answer = 2\n"
   ]
  },
  {
   "cell_type": "code",
   "execution_count": 16,
   "metadata": {
    "deletable": false,
    "editable": false,
    "nbgrader": {
     "cell_type": "code",
     "checksum": "644478701c4d269e0be040cb2b371eaa",
     "grade": true,
     "grade_id": "cell-bb217909883073ea",
     "locked": true,
     "points": 1,
     "schema_version": 3,
     "solution": false,
     "task": false
    }
   },
   "outputs": [
    {
     "name": "stdout",
     "output_type": "stream",
     "text": [
      "test case passed!\n"
     ]
    }
   ],
   "source": [
    "# 1 Mark\n",
    "assert(question1g_answer == question1g())\n",
    "print('test case passed!')"
   ]
  },
  {
   "cell_type": "markdown",
   "metadata": {
    "deletable": false,
    "editable": false,
    "nbgrader": {
     "cell_type": "markdown",
     "checksum": "0d6b321b8eb52d5ffdc8b57362fae9ae",
     "grade": false,
     "grade_id": "cell-ad0c1460175a5224",
     "locked": true,
     "schema_version": 3,
     "solution": false,
     "task": false
    }
   },
   "source": [
    "## Question 2\n",
    "\n",
    "(a) Define both `x_values1` and `y_values1` as 1D NumPy arrays of 25 equally-spaced floats between $-1.2$ and $1.2$ inclusive, and use the `meshgrid` function to define `x1` and `y1` as 25-by-25 arrays of, respectively, $x$- and $y$-coordinates specifying a lattice in the plane."
   ]
  },
  {
   "cell_type": "code",
   "execution_count": 17,
   "metadata": {
    "deletable": false,
    "nbgrader": {
     "cell_type": "code",
     "checksum": "9340ecf9c64052879a64f9cb554d5dd8",
     "grade": false,
     "grade_id": "cell-08956e751f87f27e",
     "locked": false,
     "schema_version": 3,
     "solution": true,
     "task": false
    }
   },
   "outputs": [],
   "source": [
    "x_values1 = np.linspace(-1.2,1.2,25)\n",
    "y_values1 = np.linspace(-1.2,1.2,25)\n",
    "x1, y1 = np.meshgrid(x_values1, y_values1)\n",
    "\n",
    "# print(x1)\n",
    "# print()\n",
    "# print(y1)\n",
    "# I don't think it's worth printing these values; you may disagree!"
   ]
  },
  {
   "cell_type": "code",
   "execution_count": 18,
   "metadata": {
    "deletable": false,
    "editable": false,
    "nbgrader": {
     "cell_type": "code",
     "checksum": "b5f79b39527029af5ee4d17246fd5596",
     "grade": true,
     "grade_id": "cell-6f64349f1b251f07",
     "locked": true,
     "points": 2,
     "schema_version": 3,
     "solution": false,
     "task": false
    }
   },
   "outputs": [
    {
     "name": "stdout",
     "output_type": "stream",
     "text": [
      "x_values1 and y_values1 defined correctly\n",
      "x1 and y1 defined correctly\n",
      "\n",
      "2 out of 2\n"
     ]
    },
    {
     "data": {
      "text/plain": [
       "2"
      ]
     },
     "execution_count": 18,
     "metadata": {},
     "output_type": "execute_result"
    }
   ],
   "source": [
    "# 2 Marks\n",
    "# Do not try to delete this cell\n",
    "# Run this cell for grading\n",
    "_globals = globals()\n",
    "question2a(_globals)"
   ]
  },
  {
   "cell_type": "markdown",
   "metadata": {
    "deletable": false,
    "editable": false,
    "nbgrader": {
     "cell_type": "markdown",
     "checksum": "4cd29d2b4dc11114857aba98b42289ba",
     "grade": false,
     "grade_id": "cell-ac908613e716fd99",
     "locked": true,
     "schema_version": 3,
     "solution": false,
     "task": false
    }
   },
   "source": [
    "(b) Use the `imshow` function from `matplotlib.pyplot` to create, on two separate pairs of axes, visualisations of the functions\n",
    "\n",
    "$$u(x,y) = x^4-6\\,x^2\\,y^2+y^4$$\n",
    "and\n",
    "$$v(x,y) = 4\\,x^3\\,y-4\\,x\\,y^3$$\n",
    "on the points of this lattice.\n",
    "\n",
    "(Autograding won't be able to help much here.)\n",
    "\n",
    "[Mathematical note: these are, respectively, the real and imaginary parts of $(x+i\\,y)^4$, where $x$ and $y$ are real.]"
   ]
  },
  {
   "cell_type": "code",
   "execution_count": 19,
   "metadata": {
    "deletable": false,
    "nbgrader": {
     "cell_type": "code",
     "checksum": "859c0afe40fc8ad57fcb5c61331163cb",
     "grade": false,
     "grade_id": "cell-999f26a0d59f1ac3",
     "locked": false,
     "schema_version": 3,
     "solution": true,
     "task": false
    }
   },
   "outputs": [
    {
     "data": {
      "text/plain": [
       "<matplotlib.image.AxesImage at 0x17beec0f160>"
      ]
     },
     "execution_count": 19,
     "metadata": {},
     "output_type": "execute_result"
    },
    {
     "data": {
      "image/png": "[encoded data removed]",
      "text/plain": [
       "<Figure size 432x288 with 1 Axes>"
      ]
     },
     "metadata": {
      "needs_background": "light"
     },
     "output_type": "display_data"
    }
   ],
   "source": [
    "real1 = x1**4-6*x1**2*y1**2+y1**4\n",
    "plt.imshow(real1)"
   ]
  },
  {
   "cell_type": "code",
   "execution_count": 20,
   "metadata": {
    "deletable": false,
    "nbgrader": {
     "cell_type": "code",
     "checksum": "2fc3f6f193683f639a1187f00a9b22d2",
     "grade": false,
     "grade_id": "cell-b9e9238ad749ec25",
     "locked": false,
     "schema_version": 3,
     "solution": true,
     "task": false
    }
   },
   "outputs": [
    {
     "data": {
      "text/plain": [
       "<matplotlib.image.AxesImage at 0x17bee9de978>"
      ]
     },
     "execution_count": 20,
     "metadata": {},
     "output_type": "execute_result"
    },
    {
     "data": {
      "image/png": "[encoded data removed]",
      "text/plain": [
       "<Figure size 432x288 with 1 Axes>"
      ]
     },
     "metadata": {
      "needs_background": "light"
     },
     "output_type": "display_data"
    }
   ],
   "source": [
    "imaginary1 = 4*x1**3*y1-4*x1*y1**3\n",
    "plt.imshow(imaginary1)"
   ]
  },
  {
   "cell_type": "markdown",
   "metadata": {
    "deletable": false,
    "editable": false,
    "nbgrader": {
     "cell_type": "markdown",
     "checksum": "9acf8866949cf3ada7c41b28d5688095",
     "grade": false,
     "grade_id": "cell-582ae8fb42effb67",
     "locked": true,
     "schema_version": 3,
     "solution": false,
     "task": false
    }
   },
   "source": [
    "(c) Repeat parts (a) and (b), but this time use `x_values2` and `y_values2`, which you should define as 1D arrays of 121 equally-spaced floats between $-1.2$ and $1.2$ inclusive (and then go on to define `x2` and `y2` accordingly). This should create higher-resolution plots. \n",
    "\n",
    "(Again, autograding won't help you with the plots!)"
   ]
  },
  {
   "cell_type": "code",
   "execution_count": 21,
   "metadata": {
    "deletable": false,
    "nbgrader": {
     "cell_type": "code",
     "checksum": "d1c6ae8e313c2c2b99881f86e2c1ba6c",
     "grade": false,
     "grade_id": "cell-3f2ed706aefec34b",
     "locked": false,
     "schema_version": 3,
     "solution": true,
     "task": false
    }
   },
   "outputs": [],
   "source": [
    "x_values2 = np.linspace(-1.2,1.2,121)\n",
    "y_values2 = np.linspace(-1.2,1.2,121)\n",
    "x2, y2 = np.meshgrid(x_values2, y_values2)\n",
    "\n",
    "# I don't think it's worth printing these values; you may disagree!"
   ]
  },
  {
   "cell_type": "code",
   "execution_count": 22,
   "metadata": {
    "deletable": false,
    "editable": false,
    "nbgrader": {
     "cell_type": "code",
     "checksum": "dc074a48d37c2f105eaffb9c41a74cb0",
     "grade": true,
     "grade_id": "cell-650df88834e1db45",
     "locked": true,
     "points": 2,
     "schema_version": 3,
     "solution": false,
     "task": false
    }
   },
   "outputs": [
    {
     "name": "stdout",
     "output_type": "stream",
     "text": [
      "x_values2 and y_values2 defined correctly\n",
      "x2 and y2 defined correctly\n",
      "\n",
      "2 out of 2\n"
     ]
    },
    {
     "data": {
      "text/plain": [
       "2"
      ]
     },
     "execution_count": 22,
     "metadata": {},
     "output_type": "execute_result"
    }
   ],
   "source": [
    "# 2 Marks\n",
    "# Do not try to delete this cell\n",
    "# Run this cell for grading\n",
    "_globals = globals()\n",
    "question2c(_globals)"
   ]
  },
  {
   "cell_type": "code",
   "execution_count": 23,
   "metadata": {
    "deletable": false,
    "nbgrader": {
     "cell_type": "code",
     "checksum": "30a225c0241069d663bff51ad570aa0e",
     "grade": false,
     "grade_id": "cell-f93ed31b5fdc38b6",
     "locked": false,
     "schema_version": 3,
     "solution": true,
     "task": false
    }
   },
   "outputs": [
    {
     "data": {
      "text/plain": [
       "<matplotlib.image.AxesImage at 0x17beea03b00>"
      ]
     },
     "execution_count": 23,
     "metadata": {},
     "output_type": "execute_result"
    },
    {
     "data": {
      "image/png": "[encoded data removed]",
      "text/plain": [
       "<Figure size 432x288 with 1 Axes>"
      ]
     },
     "metadata": {
      "needs_background": "light"
     },
     "output_type": "display_data"
    }
   ],
   "source": [
    "real2 = x2**4-6*x2**2*y2**2+y2**4\n",
    "plt.imshow(real2)"
   ]
  },
  {
   "cell_type": "code",
   "execution_count": 24,
   "metadata": {
    "deletable": false,
    "nbgrader": {
     "cell_type": "code",
     "checksum": "bde650daf3d05aa28172ec6c9161ea80",
     "grade": false,
     "grade_id": "cell-58cb28ff7d8687c1",
     "locked": false,
     "schema_version": 3,
     "solution": true,
     "task": false
    }
   },
   "outputs": [
    {
     "data": {
      "text/plain": [
       "<matplotlib.image.AxesImage at 0x17beea4ca20>"
      ]
     },
     "execution_count": 24,
     "metadata": {},
     "output_type": "execute_result"
    },
    {
     "data": {
      "image/png": "[encoded data removed]",
      "text/plain": [
       "<Figure size 432x288 with 1 Axes>"
      ]
     },
     "metadata": {
      "needs_background": "light"
     },
     "output_type": "display_data"
    }
   ],
   "source": [
    "imaginary2 = 4*x2**3*y2-4*x2*y2**3\n",
    "plt.imshow(imaginary2)"
   ]
  },
  {
   "cell_type": "markdown",
   "metadata": {
    "deletable": false,
    "editable": false,
    "nbgrader": {
     "cell_type": "markdown",
     "checksum": "b4cff5706eaa04ce92ff7bc58809d582",
     "grade": false,
     "grade_id": "cell-d418173e03091553",
     "locked": true,
     "schema_version": 3,
     "solution": false,
     "task": false
    }
   },
   "source": [
    "(d) Create, on the same pair of axes, contour plots of $u(x,y)$ (in blue) and $v(x,y)$ (in red). Use `x2` and `y2`, and make the scales on both axes equal."
   ]
  },
  {
   "cell_type": "code",
   "execution_count": 25,
   "metadata": {
    "deletable": false,
    "nbgrader": {
     "cell_type": "code",
     "checksum": "87bbb484c0f7572f68a00adb57a231bb",
     "grade": false,
     "grade_id": "cell-b63bc1e74636097d",
     "locked": false,
     "schema_version": 3,
     "solution": true,
     "task": false
    }
   },
   "outputs": [
    {
     "data": {
      "text/plain": [
       "(-1.2, 1.2, -1.2, 1.2)"
      ]
     },
     "execution_count": 25,
     "metadata": {},
     "output_type": "execute_result"
    },
    {
     "data": {
      "image/png": "[encoded data removed]",
      "text/plain": [
       "<Figure size 432x288 with 1 Axes>"
      ]
     },
     "metadata": {
      "needs_background": "light"
     },
     "output_type": "display_data"
    }
   ],
   "source": [
    "plt.contour(x2,y2,real2, colors=[\"blue\"])\n",
    "plt.contour(x2,y2,imaginary2, colors=[\"red\"])\n",
    "plt.axis('equal')"
   ]
  },
  {
   "cell_type": "markdown",
   "metadata": {
    "deletable": false,
    "editable": false,
    "nbgrader": {
     "cell_type": "markdown",
     "checksum": "70e9c8bbb5ef34a7023e11b720606baa",
     "grade": false,
     "grade_id": "cell-92188fc2d0ea78d0",
     "locked": true,
     "schema_version": 3,
     "solution": false,
     "task": false
    }
   },
   "source": [
    "(e) Which of the following is consistent with your diagram?\n",
    "\n",
    "<ol>\n",
    "    <li>The contours of ${\\rm Re}\\left((x+i\\,y)^4\\right)$ and ${\\rm Im}\\left((x+i\\,y)^4\\right)$ intersect at right angles everywhere.</li>\n",
    "    <li>The contours of ${\\rm Re}\\left((x+i\\,y)^4\\right)$ and ${\\rm Im}\\left((x+i\\,y)^4\\right)$ intersect at right angles everywhere except at $(x+i\\,y)=0$.</li>\n",
    "    <li>The contours of ${\\rm Re}\\left((x+i\\,y)^4\\right)$ and ${\\rm Im}\\left((x+i\\,y)^4\\right)$ do not in general intersect at right angles.</li>\n",
    "</ol>"
   ]
  },
  {
   "cell_type": "code",
   "execution_count": 26,
   "metadata": {
    "deletable": false,
    "nbgrader": {
     "cell_type": "code",
     "checksum": "5569d508c17ccf1386b83220b0bc3944",
     "grade": false,
     "grade_id": "cell-336d594baf119478",
     "locked": false,
     "schema_version": 3,
     "solution": true,
     "task": false
    }
   },
   "outputs": [],
   "source": [
    "\n",
    "question2e_answer = 2"
   ]
  },
  {
   "cell_type": "code",
   "execution_count": 27,
   "metadata": {
    "deletable": false,
    "editable": false,
    "nbgrader": {
     "cell_type": "code",
     "checksum": "dc9fdbcd3158ee1b88ee6dd35701c7c3",
     "grade": true,
     "grade_id": "cell-aadae8f086ef3bde",
     "locked": true,
     "points": 1,
     "schema_version": 3,
     "solution": false,
     "task": false
    }
   },
   "outputs": [
    {
     "name": "stdout",
     "output_type": "stream",
     "text": [
      "test case passed!\n"
     ]
    }
   ],
   "source": [
    "# 1 Mark\n",
    "assert(question2e_answer == question2e())\n",
    "print('test case passed!')"
   ]
  },
  {
   "cell_type": "markdown",
   "metadata": {
    "deletable": false,
    "editable": false,
    "nbgrader": {
     "cell_type": "markdown",
     "checksum": "dbd7c52297bc89f239637feedd857fac",
     "grade": false,
     "grade_id": "cell-8dd392025c3c1ed1",
     "locked": true,
     "schema_version": 3,
     "solution": false,
     "task": false
    }
   },
   "source": [
    "(f) Create, on the same pair of axes, a diagram consisting of the contours of $v(x,y)$, obtained using `x2` and `y2`, on which is superimposed a quiver plot of the vector field \n",
    "$$\\left(\\frac{\\partial v}{\\partial x},\\frac{\\partial v}{\\partial y}\\right),$$\n",
    "obtained using the coarser-grained `x1` and `y1`. Show the former in blue and the latter in red. Make the scale the same on both axes.\n",
    "\n",
    "[Note: it's probably easiest to do the differentiations by hand, though you're welcome to use SymPy if you like.]"
   ]
  },
  {
   "cell_type": "code",
   "execution_count": 28,
   "metadata": {
    "deletable": false,
    "nbgrader": {
     "cell_type": "code",
     "checksum": "0bd9c1e6fe0585ea5637cc1f6f8e1fbb",
     "grade": false,
     "grade_id": "cell-b0554a745e8b4bdb",
     "locked": false,
     "schema_version": 3,
     "solution": true,
     "task": false
    }
   },
   "outputs": [
    {
     "data": {
      "text/plain": [
       "(-1.2, 1.2, -1.2, 1.2)"
      ]
     },
     "execution_count": 28,
     "metadata": {},
     "output_type": "execute_result"
    },
    {
     "data": {
      "image/png": "[encoded data removed]",
      "text/plain": [
       "<Figure size 432x288 with 1 Axes>"
      ]
     },
     "metadata": {
      "needs_background": "light"
     },
     "output_type": "display_data"
    }
   ],
   "source": [
    "dx = 12*x1**2*y1-4*y1**3\n",
    "dy = 4*x1**3-12*x1*y1**2\n",
    "plt.contour(x2,y2,imaginary2, colors=[\"blue\"])\n",
    "plt.quiver(x1,y1,dx,dy, color=[\"red\"])\n",
    "plt.axis('equal')"
   ]
  },
  {
   "cell_type": "markdown",
   "metadata": {
    "deletable": false,
    "editable": false,
    "nbgrader": {
     "cell_type": "markdown",
     "checksum": "a3b6c6f302834ad6082ebbd2bd461036",
     "grade": false,
     "grade_id": "cell-c69ef03e399e437b",
     "locked": true,
     "schema_version": 3,
     "solution": false,
     "task": false
    }
   },
   "source": [
    "(g) Create, on the same pair of axes, a diagram consisting of the contours of $v(x,y)$, obtained using `x2` and `y2`, on which is superimposed a quiver plot of the vector field \n",
    "$$\\left(\\frac{\\partial u}{\\partial x},\\frac{\\partial u}{\\partial y}\\right),$$\n",
    "obtained using the coarser-grained `x1` and `y1`. Show the former in blue and the latter in red. Make the scale the same on both axes.\n",
    "\n",
    "[Note: this isn't a typo; I really do mean to use $v$ for the contour plot and $u$ for the quiver plot here.]"
   ]
  },
  {
   "cell_type": "code",
   "execution_count": 29,
   "metadata": {
    "deletable": false,
    "nbgrader": {
     "cell_type": "code",
     "checksum": "55c1729edea3a4bde40e01dc51b9e6ae",
     "grade": false,
     "grade_id": "cell-c3cc1ae42fcc34a9",
     "locked": false,
     "schema_version": 3,
     "solution": true,
     "task": false
    },
    "scrolled": true
   },
   "outputs": [
    {
     "data": {
      "text/plain": [
       "(-1.2, 1.2, -1.2, 1.2)"
      ]
     },
     "execution_count": 29,
     "metadata": {},
     "output_type": "execute_result"
    },
    {
     "data": {
      "image/png": "[encoded data removed]",
      "text/plain": [
       "<Figure size 432x288 with 1 Axes>"
      ]
     },
     "metadata": {
      "needs_background": "light"
     },
     "output_type": "display_data"
    }
   ],
   "source": [
    "dx = 4*x1**3-12*y1**2*x1+y1**4\n",
    "dy = x1**4-12*x1**2*y1+4*y1**3\n",
    "plt.contour(x2,y2,real2, colors=[\"blue\"])\n",
    "plt.quiver(x1,y1,dx,dy, color=[\"red\"])\n",
    "plt.axis('equal')\n",
    "\n",
    "\n",
    "#𝑥4−6𝑥2𝑦2+𝑦4"
   ]
  },
  {
   "cell_type": "markdown",
   "metadata": {
    "deletable": false,
    "editable": false,
    "nbgrader": {
     "cell_type": "markdown",
     "checksum": "d93a25ac19da69406e7cf1923650eb4d",
     "grade": false,
     "grade_id": "cell-0c3696962b59e74e",
     "locked": true,
     "schema_version": 3,
     "solution": false,
     "task": false
    }
   },
   "source": [
    "(h) Create on separate sets of axes, using 3D projections, a wireframe plot, a surface plot and a 3D contour plot of $v(x, y)$.  In each case, use the finer-grained versions of the data."
   ]
  },
  {
   "cell_type": "code",
   "execution_count": 32,
   "metadata": {
    "deletable": false,
    "nbgrader": {
     "cell_type": "code",
     "checksum": "303676049e34d55aa060b786fb02ed19",
     "grade": false,
     "grade_id": "cell-61d50292422b38ae",
     "locked": false,
     "schema_version": 3,
     "solution": true,
     "task": false
    }
   },
   "outputs": [
    {
     "data": {
      "text/plain": [
       "<mpl_toolkits.mplot3d.art3d.Line3DCollection at 0x17bef5f3080>"
      ]
     },
     "execution_count": 32,
     "metadata": {},
     "output_type": "execute_result"
    },
    {
     "data": {
      "image/png": "[encoded data removed]",
      "text/plain": [
       "<Figure size 432x288 with 1 Axes>"
      ]
     },
     "metadata": {
      "needs_background": "light"
     },
     "output_type": "display_data"
    }
   ],
   "source": [
    "from mpl_toolkits.mplot3d import Axes3D\n",
    "ax = plt.axes(projection=\"3d\")\n",
    "ax.plot_wireframe(x2,y2,real2)"
   ]
  },
  {
   "cell_type": "code",
   "execution_count": 33,
   "metadata": {
    "deletable": false,
    "nbgrader": {
     "cell_type": "code",
     "checksum": "dba38269a85d53e5f36f7c5a3b562ab7",
     "grade": false,
     "grade_id": "cell-4610a5d614edfa07",
     "locked": false,
     "schema_version": 3,
     "solution": true,
     "task": false
    }
   },
   "outputs": [
    {
     "data": {
      "text/plain": [
       "<mpl_toolkits.mplot3d.art3d.Poly3DCollection at 0x17bef5aae10>"
      ]
     },
     "execution_count": 33,
     "metadata": {},
     "output_type": "execute_result"
    },
    {
     "data": {
      "image/png": "[encoded data removed]",
      "text/plain": [
       "<Figure size 432x288 with 1 Axes>"
      ]
     },
     "metadata": {
      "needs_background": "light"
     },
     "output_type": "display_data"
    }
   ],
   "source": [
    "from mpl_toolkits.mplot3d import Axes3D\n",
    "ax = plt.axes(projection=\"3d\")\n",
    "ax.plot_surface(x2,y2,real2)"
   ]
  },
  {
   "cell_type": "code",
   "execution_count": 35,
   "metadata": {
    "deletable": false,
    "nbgrader": {
     "cell_type": "code",
     "checksum": "42b8d6508019d782afe6bccb0212eae2",
     "grade": false,
     "grade_id": "cell-91bd12f9150c8117",
     "locked": false,
     "schema_version": 3,
     "solution": true,
     "task": false
    }
   },
   "outputs": [
    {
     "data": {
      "text/plain": [
       "<matplotlib.contour.QuadContourSet at 0x17bee97b860>"
      ]
     },
     "execution_count": 35,
     "metadata": {},
     "output_type": "execute_result"
    },
    {
     "data": {
      "image/png": "[encoded data removed]",
      "text/plain": [
       "<Figure size 432x288 with 1 Axes>"
      ]
     },
     "metadata": {
      "needs_background": "light"
     },
     "output_type": "display_data"
    }
   ],
   "source": [
    "from mpl_toolkits.mplot3d import Axes3D\n",
    "ax = plt.axes(projection=\"3d\")\n",
    "ax.contour(x2,y2,real2)"
   ]
  },
  {
   "cell_type": "markdown",
   "metadata": {
    "deletable": false,
    "editable": false,
    "nbgrader": {
     "cell_type": "markdown",
     "checksum": "405fb8575ad7f697e5adc9cd704f9e19",
     "grade": false,
     "grade_id": "cell-da779c119900b13c",
     "locked": true,
     "schema_version": 3,
     "solution": false,
     "task": false
    }
   },
   "source": [
    "## Question 3\n",
    "\n",
    "(a) Define\n",
    "```python\n",
    "n = 10\n",
    "p = 0.3\n",
    "```\n",
    "\n",
    "Then define `r` as a 1D array consisting of the integers between 0 and `n` inclusive."
   ]
  },
  {
   "cell_type": "code",
   "execution_count": 91,
   "metadata": {
    "deletable": false,
    "nbgrader": {
     "cell_type": "code",
     "checksum": "c8895d6f07984172831253b5954f3342",
     "grade": false,
     "grade_id": "cell-0d14e655b59b9cee",
     "locked": false,
     "schema_version": 3,
     "solution": true,
     "task": false
    }
   },
   "outputs": [
    {
     "name": "stdout",
     "output_type": "stream",
     "text": [
      "10\n",
      "0.3\n",
      "[ 0  1  2  3  4  5  6  7  8  9 10]\n"
     ]
    }
   ],
   "source": [
    "n = 10\n",
    "p = 0.3\n",
    "r = np.arange(0,n+1)\n",
    "print(n)\n",
    "print(p)\n",
    "print(r)"
   ]
  },
  {
   "cell_type": "code",
   "execution_count": 38,
   "metadata": {
    "deletable": false,
    "editable": false,
    "nbgrader": {
     "cell_type": "code",
     "checksum": "12275a7009b4f3644b8c94ba14842339",
     "grade": true,
     "grade_id": "cell-de68806389692a9b",
     "locked": true,
     "points": 2,
     "schema_version": 3,
     "solution": false,
     "task": false
    }
   },
   "outputs": [
    {
     "name": "stdout",
     "output_type": "stream",
     "text": [
      "n and p defined correctly\n",
      "r defined correctly\n",
      "\n",
      "2 out of 2\n"
     ]
    },
    {
     "data": {
      "text/plain": [
       "2"
      ]
     },
     "execution_count": 38,
     "metadata": {},
     "output_type": "execute_result"
    }
   ],
   "source": [
    "# 2 Marks\n",
    "# Do not try to delete this cell\n",
    "# Run this cell for grading\n",
    "_globals = globals()\n",
    "question3a(_globals)"
   ]
  },
  {
   "cell_type": "markdown",
   "metadata": {
    "deletable": false,
    "editable": false,
    "nbgrader": {
     "cell_type": "markdown",
     "checksum": "98c212555e434e69c930a027451c0aac",
     "grade": false,
     "grade_id": "cell-5fc2371c623c3f16",
     "locked": true,
     "schema_version": 3,
     "solution": false,
     "task": false
    }
   },
   "source": [
    "(b) Using `numpy`'s `cumprod` function, or otherwise, define `rfac` as a 1D array consisting of the integers $0!, 1!, 2!, \\dots n!$, and `nmrfac` as a 1D array consisting of the integers $n!, (n-1)!, (n-2)!, \\dots, 0!$."
   ]
  },
  {
   "cell_type": "code",
   "execution_count": 66,
   "metadata": {
    "deletable": false,
    "nbgrader": {
     "cell_type": "code",
     "checksum": "0a425dc58bcd23e456b2c81757aefc77",
     "grade": false,
     "grade_id": "cell-5b04f8de66d3d075",
     "locked": false,
     "schema_version": 3,
     "solution": true,
     "task": false
    }
   },
   "outputs": [
    {
     "name": "stdout",
     "output_type": "stream",
     "text": [
      "[ 0  1  2  3  4  5  6  7  8  9 10]\n",
      "[ 0  1  2  3  4  5  6  7  8  9 10]\n",
      "[ 0  1  2  3  4  5  6  7  8  9 10]\n",
      "[      1       1       2       6      24     120     720    5040   40320\n",
      "  362880 3628800]\n",
      "[3628800  362880   40320    5040     720     120      24       6       2\n",
      "       1       1]\n",
      "[ 0  1  2  3  4  5  6  7  8  9 10]\n"
     ]
    }
   ],
   "source": [
    "print(r)\n",
    "rinterim = np.arange(0,n+1)\n",
    "print(r)\n",
    "rinterim[0] = 1\n",
    "print(r)\n",
    "rfac = np.cumprod(rinterim)\n",
    "nmrfac = np.flip(rfac)\n",
    "print(rfac)\n",
    "print(nmrfac)\n",
    "print(r)"
   ]
  },
  {
   "cell_type": "code",
   "execution_count": 55,
   "metadata": {
    "deletable": false,
    "editable": false,
    "nbgrader": {
     "cell_type": "code",
     "checksum": "b4a4aa1d54aecb8357a4a9213bdc0824",
     "grade": true,
     "grade_id": "cell-ccee552c5ba065e3",
     "locked": true,
     "points": 2,
     "schema_version": 3,
     "solution": false,
     "task": false
    }
   },
   "outputs": [
    {
     "name": "stdout",
     "output_type": "stream",
     "text": [
      "rfac defined correctly\n",
      "nmrfac defined correctly\n",
      "\n",
      "2 out of 2\n"
     ]
    },
    {
     "data": {
      "text/plain": [
       "2"
      ]
     },
     "execution_count": 55,
     "metadata": {},
     "output_type": "execute_result"
    }
   ],
   "source": [
    "# 2 Marks\n",
    "# Do not try to delete this cell\n",
    "# Run this cell for grading\n",
    "_globals = globals()\n",
    "question3b(_globals)"
   ]
  },
  {
   "cell_type": "markdown",
   "metadata": {
    "deletable": false,
    "editable": false,
    "nbgrader": {
     "cell_type": "markdown",
     "checksum": "5e0d0041ac1513ed54b7d7288177fae7",
     "grade": false,
     "grade_id": "cell-baa344d917768ccc",
     "locked": true,
     "schema_version": 3,
     "solution": false,
     "task": false
    }
   },
   "source": [
    "(c) Using `rfac` and `nmrfac`, or otherwise, define `bincoef` as a 1D array consisting of the binomial coefficients\n",
    "\n",
    "$$\\frac{n!}{0!\\,n!},\\frac{n!}{1!\\,(n-1)!},\\frac{n!}{2!\\,(n-2)!},\\dots,\\frac{n!}{n!\\,0!}.$$\n",
    "\n",
    "Then define `binprob` as a 1D array of floats, consisting of all the values of\n",
    "$$\\frac{n!}{r!\\,(n-r)!}\\,p^r\\,(1-p)^{n-r}$$\n",
    "for $r = 0,1,2,\\dots,n.$"
   ]
  },
  {
   "cell_type": "code",
   "execution_count": 102,
   "metadata": {
    "deletable": false,
    "nbgrader": {
     "cell_type": "code",
     "checksum": "5750ae382f188344216c9aaea19ac097",
     "grade": false,
     "grade_id": "cell-150814d418bbdee1",
     "locked": false,
     "schema_version": 3,
     "solution": true,
     "task": false
    }
   },
   "outputs": [
    {
     "name": "stdout",
     "output_type": "stream",
     "text": [
      "[  1.  10.  45. 120. 210. 252. 210. 120.  45.  10.   1.]\n",
      "[2.82475249e-02 1.21060821e-01 2.33474440e-01 2.66827932e-01\n",
      " 2.00120949e-01 1.02919345e-01 3.67569090e-02 9.00169200e-03\n",
      " 1.44670050e-03 1.37781000e-04 5.90490000e-06]\n"
     ]
    }
   ],
   "source": [
    "bincoef = (rfac[-1])/(rfac*nmrfac)\n",
    "pval = (p**r) * ((1-p)**(n-r))\n",
    "binprob = bincoef*pval\n",
    "\n",
    "# print(1-p)\n",
    "# print(n-r)\n",
    "# print((1-p)**(n-r))\n",
    "\n",
    "# print()\n",
    "print(bincoef)\n",
    "print(binprob)"
   ]
  },
  {
   "cell_type": "code",
   "execution_count": 103,
   "metadata": {
    "deletable": false,
    "editable": false,
    "nbgrader": {
     "cell_type": "code",
     "checksum": "5ea26ddfc0ce2064ed8095482839fb34",
     "grade": true,
     "grade_id": "cell-079d267bcc0da88a",
     "locked": true,
     "points": 2,
     "schema_version": 3,
     "solution": false,
     "task": false
    }
   },
   "outputs": [
    {
     "name": "stdout",
     "output_type": "stream",
     "text": [
      "bincoef defined correctly\n",
      "binprob defined correctly\n",
      "\n",
      "2 out of 2\n"
     ]
    },
    {
     "data": {
      "text/plain": [
       "2"
      ]
     },
     "execution_count": 103,
     "metadata": {},
     "output_type": "execute_result"
    }
   ],
   "source": [
    "# 2 Marks\n",
    "# Do not try to delete this cell\n",
    "# Run this cell for grading\n",
    "_globals = globals()\n",
    "question3c(_globals)"
   ]
  },
  {
   "cell_type": "markdown",
   "metadata": {
    "deletable": false,
    "editable": false,
    "nbgrader": {
     "cell_type": "markdown",
     "checksum": "448b148892006cfc54341ed5b000a636",
     "grade": false,
     "grade_id": "cell-3b6175195adac75c",
     "locked": true,
     "schema_version": 3,
     "solution": false,
     "task": false
    }
   },
   "source": [
    "(d) Create, on the same pair of axes, a blue line plot of `binprob` (on the vertical axis) against `r` (on the horizontal axis), a blue point plot of `prob` against `r` (with a nice big marker size like 10), and a red bar chart of `prob` against `r`. "
   ]
  },
  {
   "cell_type": "code",
   "execution_count": 90,
   "metadata": {
    "deletable": false,
    "nbgrader": {
     "cell_type": "code",
     "checksum": "c007bdfaa1d308cf1a3eef80330f407f",
     "grade": false,
     "grade_id": "cell-0e8447c361379dea",
     "locked": false,
     "schema_version": 3,
     "solution": true,
     "task": false
    }
   },
   "outputs": [
    {
     "data": {
      "text/plain": [
       "<BarContainer object of 11 artists>"
      ]
     },
     "execution_count": 90,
     "metadata": {},
     "output_type": "execute_result"
    },
    {
     "data": {
      "image/png": "[encoded data removed]",
      "text/plain": [
       "<Figure size 432x288 with 1 Axes>"
      ]
     },
     "metadata": {
      "needs_background": "light"
     },
     "output_type": "display_data"
    }
   ],
   "source": [
    "fig = plt.figure()\n",
    "ax = fig.add_subplot()\n",
    "ax.plot(r,binprob, color=\"blue\")\n",
    "ax.scatter(r, binprob, color=\"blue\")\n",
    "ax.bar(r, binprob, color=\"red\")"
   ]
  },
  {
   "cell_type": "markdown",
   "metadata": {
    "deletable": false,
    "editable": false,
    "nbgrader": {
     "cell_type": "markdown",
     "checksum": "84ef72f66554f75630482b60af730a0d",
     "grade": false,
     "grade_id": "cell-a0d74ebf855422b6",
     "locked": true,
     "schema_version": 3,
     "solution": false,
     "task": false
    }
   },
   "source": [
    "(e) Use the `binomial` function from NumPy's `random` submodule to create a sample `data100` of size 100 from the binomial distribution $B(n,p)$, with the above values of $n$ and $p$. Create, on the same pair of axes, a blue line plot of `binprob` (on the vertical axis) against `r` (on the horizontal axis), a blue point plot of `prob` against `r` (with a nice big marker size like 10), and a red <b>density histogram</b> of this data, using bin boundaries $-0.5, 0.5, 1.5, \\dots ,10.5$.\n",
    "\n",
    "Repeat for sample sizes of 1000 and 10000, calling your data `data1000` and `data10000`."
   ]
  },
  {
   "cell_type": "code",
   "execution_count": 121,
   "metadata": {
    "deletable": false,
    "nbgrader": {
     "cell_type": "code",
     "checksum": "494cbf024e616b5917db88d1ae018d70",
     "grade": false,
     "grade_id": "cell-e5d83668406c6e7f",
     "locked": false,
     "schema_version": 3,
     "solution": true,
     "task": false
    }
   },
   "outputs": [
    {
     "data": {
      "text/plain": [
       "(array([0.027, 0.13 , 0.222, 0.255, 0.22 , 0.099, 0.043, 0.003, 0.001,\n",
       "        0.   , 0.   ]),\n",
       " array([-0.5,  0.5,  1.5,  2.5,  3.5,  4.5,  5.5,  6.5,  7.5,  8.5,  9.5,\n",
       "        10.5]),\n",
       " <a list of 11 Patch objects>)"
      ]
     },
     "execution_count": 121,
     "metadata": {},
     "output_type": "execute_result"
    },
    {
     "data": {
      "image/png": "[encoded data removed]",
      "text/plain": [
       "<Figure size 432x288 with 1 Axes>"
      ]
     },
     "metadata": {
      "needs_background": "light"
     },
     "output_type": "display_data"
    }
   ],
   "source": [
    "sampleSize = 100\n",
    "data100 = np.random.binomial(n,p,sampleSize)\n",
    "\n",
    "\n",
    "#print(np.arange(-0.5, 11))\n",
    "fig = plt.figure()\n",
    "ax = fig.add_subplot()\n",
    "ax.plot(r,binprob, color=\"blue\")\n",
    "ax.scatter(r, binprob, color=\"blue\")\n",
    "ax.hist(data100, color=\"red\", bins=np.arange(-0.5, 11), density=True)"
   ]
  },
  {
   "cell_type": "code",
   "execution_count": 118,
   "metadata": {
    "deletable": false,
    "editable": false,
    "nbgrader": {
     "cell_type": "code",
     "checksum": "c869dee1859a1db6c0ad8f93e41a3a9d",
     "grade": true,
     "grade_id": "cell-77f317c15e983e2a",
     "locked": true,
     "points": 1,
     "schema_version": 3,
     "solution": false,
     "task": false
    }
   },
   "outputs": [
    {
     "name": "stdout",
     "output_type": "stream",
     "text": [
      "data100 is a numpy array\n",
      "data100 is 1D and of length 100\n",
      "data100 consists of numpy ints\n",
      "The elements of data100 are in the correct range\n",
      "Test passed!\n"
     ]
    },
    {
     "data": {
      "text/plain": [
       "1"
      ]
     },
     "execution_count": 118,
     "metadata": {},
     "output_type": "execute_result"
    }
   ],
   "source": [
    "# For checking data100\n",
    "# 1 Mark\n",
    "# Do not try to delete this cell\n",
    "# Run this cell for grading\n",
    "_globals = globals()\n",
    "question3e1(_globals)"
   ]
  },
  {
   "cell_type": "code",
   "execution_count": 127,
   "metadata": {
    "deletable": false,
    "nbgrader": {
     "cell_type": "code",
     "checksum": "671f553e635addf81579b0e32ab0bd46",
     "grade": false,
     "grade_id": "cell-81f94ed47c843470",
     "locked": false,
     "schema_version": 3,
     "solution": true,
     "task": false
    }
   },
   "outputs": [
    {
     "data": {
      "text/plain": [
       "(array([0.032, 0.128, 0.204, 0.276, 0.217, 0.097, 0.027, 0.019, 0.   ,\n",
       "        0.   , 0.   ]),\n",
       " array([-0.5,  0.5,  1.5,  2.5,  3.5,  4.5,  5.5,  6.5,  7.5,  8.5,  9.5,\n",
       "        10.5]),\n",
       " <a list of 11 Patch objects>)"
      ]
     },
     "execution_count": 127,
     "metadata": {},
     "output_type": "execute_result"
    },
    {
     "data": {
      "image/png": "[encoded data removed]",
      "text/plain": [
       "<Figure size 432x288 with 1 Axes>"
      ]
     },
     "metadata": {
      "needs_background": "light"
     },
     "output_type": "display_data"
    }
   ],
   "source": [
    "sampleSize1 = 1000\n",
    "data1000 = np.random.binomial(n,p,sampleSize1)\n",
    "\n",
    "\n",
    "#print(np.arange(-0.5, 11))\n",
    "fig = plt.figure()\n",
    "ax = fig.add_subplot()\n",
    "ax.plot(r,binprob, color=\"blue\")\n",
    "ax.scatter(r, binprob, color=\"blue\")\n",
    "ax.hist(data1000, color=\"red\", bins=np.arange(-0.5, 11), density=True)"
   ]
  },
  {
   "cell_type": "code",
   "execution_count": 128,
   "metadata": {
    "deletable": false,
    "editable": false,
    "nbgrader": {
     "cell_type": "code",
     "checksum": "b4d0b63b1be579e7e24c2ef6cb608db8",
     "grade": true,
     "grade_id": "cell-33fb77e5b1e40209",
     "locked": true,
     "points": 1,
     "schema_version": 3,
     "solution": false,
     "task": false
    }
   },
   "outputs": [
    {
     "name": "stdout",
     "output_type": "stream",
     "text": [
      "data1000 is a numpy array\n",
      "data1000 is 1D and of length 1000\n",
      "data1000 consists of numpy ints\n",
      "The elements of data1000 are in the correct range\n",
      "Test passed!\n"
     ]
    },
    {
     "data": {
      "text/plain": [
       "1"
      ]
     },
     "execution_count": 128,
     "metadata": {},
     "output_type": "execute_result"
    }
   ],
   "source": [
    "# For checking data1000\n",
    "# 1 Mark\n",
    "# Do not try to delete this cell\n",
    "# Run this cell for grading\n",
    "_globals = globals()\n",
    "question3e2(_globals)"
   ]
  },
  {
   "cell_type": "code",
   "execution_count": 134,
   "metadata": {
    "deletable": false,
    "nbgrader": {
     "cell_type": "code",
     "checksum": "2ca441169ee01d8fd55be11a52257c91",
     "grade": false,
     "grade_id": "cell-1525f678157c898f",
     "locked": false,
     "schema_version": 3,
     "solution": true,
     "task": false
    }
   },
   "outputs": [
    {
     "data": {
      "text/plain": [
       "<matplotlib.collections.PathCollection at 0x17bf3625400>"
      ]
     },
     "execution_count": 134,
     "metadata": {},
     "output_type": "execute_result"
    },
    {
     "data": {
      "image/png": "[encoded data removed]",
      "text/plain": [
       "<Figure size 432x288 with 1 Axes>"
      ]
     },
     "metadata": {
      "needs_background": "light"
     },
     "output_type": "display_data"
    }
   ],
   "source": [
    "sampleSize2 = 10000\n",
    "data10000 = np.random.binomial(n,p,sampleSize2)\n",
    "\n",
    "\n",
    "#print(np.arange(-0.5, 11))\n",
    "fig = plt.figure()\n",
    "ax = fig.add_subplot()\n",
    "ax.plot(r,binprob, color=\"blue\")\n",
    "\n",
    "ax.hist(data10000, color=\"red\", bins=np.arange(-0.5, 11), density=True)\n",
    "\n",
    "ax.scatter(r, binprob, color=\"blue\")"
   ]
  },
  {
   "cell_type": "code",
   "execution_count": 135,
   "metadata": {
    "deletable": false,
    "editable": false,
    "nbgrader": {
     "cell_type": "code",
     "checksum": "322faed13bf8a13d18d64e88ed51ff6c",
     "grade": true,
     "grade_id": "cell-a5fdc908c5c754fb",
     "locked": true,
     "points": 1,
     "schema_version": 3,
     "solution": false,
     "task": false
    }
   },
   "outputs": [
    {
     "name": "stdout",
     "output_type": "stream",
     "text": [
      "data10000 is a numpy array\n",
      "data10000 is 1D and of length 10000\n",
      "data10000 consists of numpy ints\n",
      "The elements of data10000 are in the correct range\n",
      "Test passed!\n"
     ]
    },
    {
     "data": {
      "text/plain": [
       "1"
      ]
     },
     "execution_count": 135,
     "metadata": {},
     "output_type": "execute_result"
    }
   ],
   "source": [
    "# For checking data10000\n",
    "# 1 Mark\n",
    "# Do not try to delete this cell\n",
    "# Run this cell for grading\n",
    "_globals = globals()\n",
    "question3e3(_globals)"
   ]
  },
  {
   "cell_type": "markdown",
   "metadata": {
    "deletable": false,
    "editable": false,
    "nbgrader": {
     "cell_type": "markdown",
     "checksum": "8ad8df35fc6c9c0383175bdd38f3090b",
     "grade": false,
     "grade_id": "cell-a6bc75c443b724e3",
     "locked": true,
     "schema_version": 3,
     "solution": false,
     "task": false
    }
   },
   "source": [
    "# Question 4\n",
    "\n",
    "This question is about <b>iterated function systems</b>. An iterated function system consists of a finite list of functions from the plane to itself (or, more generally, from $n$-dimensional space to itself). A function is chosen at random from the list, and a starting pair of coordinates fed into it, produding a new pair of coordinates. This is fed into a freshly-chosen random function from the list, and so on, for a large number of iterations.\n",
    "\n",
    "In all the cases we shall consider, the functions will be <b>affine</b>: that is, each will consist of a linear transformation followed by a translation. The system can therefore be completely specified by $n$ transformation matrices and $n$ translation vectors.\n",
    "\n",
    "(a) Write and test a function called `ifs_step`. Your function should take as its arguments:\n",
    "<ul>\n",
    "    <li>a 3D NumPy array called <code>matrices</code>; the first dimension of this array will be some positive integer (let's call it $n$), and the other two dimensions will be 2; this array can therefore represent a list of $n$ matrices;</li>\n",
    "    <li>a 2D NumPy array called <code>vectors</code>; the first dimension will be the same as that of <code>matrices</code>, and the second will be 2; this array can therefore represent a list of $n$ vectors;</li>\n",
    "    <li>a 1D NumPy array of length 2 called <code>coords</code>.\n",
    "</ul>\n",
    "\n",
    "It should then:\n",
    "<ul>\n",
    "    <li>choose a random integer, <code>index</code>, between $0$ and $(n-1)$ inclusive;</li>\n",
    "    <li>set <code>mat</code> equal to the $(2\\times2)$ array given by <code>matrices[index,:,:]</code>;</li>\n",
    "    <li>set <code>vec</code> equal to the 1D array given by <code>vectors[index,:]</code>;</li>\n",
    "    <li>return the value of <code>dot(mat, coords) + vec</code>.</li>\n",
    "</ul>\n",
    "\n",
    "To test your function, try calculating\n",
    "```python\n",
    "ifs_step(mats, vecs, np.array([0.5,0.5]))\n",
    "```\n",
    "where `mats` and `vecs` are defined as follows:"
   ]
  },
  {
   "cell_type": "code",
   "execution_count": 200,
   "metadata": {
    "deletable": false,
    "editable": false,
    "nbgrader": {
     "cell_type": "code",
     "checksum": "1652f7cf81fd69ad89b635da76a78ce0",
     "grade": false,
     "grade_id": "cell-a1ef602bdb9b065a",
     "locked": true,
     "schema_version": 3,
     "solution": false,
     "task": false
    }
   },
   "outputs": [],
   "source": [
    "mat0 = np.array([[1.0,0.0],[0.0,1.0]])/3\n",
    "mat1 = np.array([[np.cos(np.pi/3),-np.sin(np.pi/3)],[np.sin(np.pi/3),np.cos(np.pi/3)]])/3\n",
    "mat2 = np.array([[np.cos(-np.pi/3),-np.sin(-np.pi/3)],[np.sin(-np.pi/3),np.cos(-np.pi/3)]])/3\n",
    "mat3 = np.array([[1.0,0.0],[0.0,1.0]])/3\n",
    "\n",
    "mats = np.array([mat0,mat1,mat2,mat3])\n",
    "\n",
    "vec0 = np.array([0.0,0.0])\n",
    "vec1 = np.array([1.0/3,0.0])\n",
    "vec2 = np.array([0.5,np.sqrt(3)/6])\n",
    "vec3 = np.array([2.0/3,0.0])\n",
    "\n",
    "vecs = np.array([vec0,vec1,vec2,vec3])"
   ]
  },
  {
   "cell_type": "code",
   "execution_count": 246,
   "metadata": {
    "deletable": false,
    "nbgrader": {
     "cell_type": "code",
     "checksum": "03a92c82b686f9dbadc71a7e57c4f71a",
     "grade": false,
     "grade_id": "cell-908b7a8446becda5",
     "locked": false,
     "schema_version": 3,
     "solution": true,
     "task": false
    }
   },
   "outputs": [
    {
     "data": {
      "text/plain": [
       "array([0.7276709, 0.2276709])"
      ]
     },
     "execution_count": 246,
     "metadata": {},
     "output_type": "execute_result"
    }
   ],
   "source": [
    "def ifs_step(matrices, vectors, coords):\n",
    "    n = np.shape(vecs)[0]\n",
    "    index = np.random.randint(0,n)\n",
    "    mat = matrices[index,:,:]\n",
    "    vec = vectors[index,:]\n",
    "    return (np.dot(mat, coords) + vec)\n",
    "    \n",
    "ifs_step(mats, vecs, np.array([0.5,0.5]))\n",
    "    \n",
    "# from random import randint\n",
    "# for x in range(20):\n",
    "#     print(randint(0,5))"
   ]
  },
  {
   "cell_type": "code",
   "execution_count": 150,
   "metadata": {
    "deletable": false,
    "editable": false,
    "nbgrader": {
     "cell_type": "code",
     "checksum": "f4c570f78a55fe418d0f408c1c01f9d4",
     "grade": true,
     "grade_id": "cell-cbbb42020161863b",
     "locked": true,
     "points": 1,
     "schema_version": 3,
     "solution": false,
     "task": false
    }
   },
   "outputs": [
    {
     "name": "stdout",
     "output_type": "stream",
     "text": [
      "Test passed!\n"
     ]
    },
    {
     "data": {
      "text/plain": [
       "1"
      ]
     },
     "execution_count": 150,
     "metadata": {},
     "output_type": "execute_result"
    }
   ],
   "source": [
    "# 1 Mark\n",
    "# Do not try to delete this cell\n",
    "# Run this cell for grading\n",
    "_globals = globals()\n",
    "question4a(_globals)"
   ]
  },
  {
   "cell_type": "markdown",
   "metadata": {
    "deletable": false,
    "editable": false,
    "nbgrader": {
     "cell_type": "markdown",
     "checksum": "5b1cacfc233ee4adf5ef34503fff8eca",
     "grade": false,
     "grade_id": "cell-a7116e8e7681c818",
     "locked": true,
     "schema_version": 3,
     "solution": false,
     "task": false
    }
   },
   "source": [
    "(b) Write, and test on the same matrices and vectors as in part (a), a function called `iterate_ifs` which takes as its arguments `matrices`, `vectors`, an initial value `coords0` and non-negative ints `nskip` and `niterate`. It should then:\n",
    "\n",
    "<ul>\n",
    "    <li>iterate <code>ifs_step</code>, using these values of <code>matrices</code> and <code>vectors</code>, a total of <code>nskip</code> times, starting with <code>coords0</code>, and discarding all iterates except the most recent;</li>\n",
    "    <li>initialize <code>coords_array</code> as a $(1\\times2)$ array whose first and only row is the most recent iterate of <code>ifs_step</code>;</li>    \n",
    "    <li>iterate <code>ifs_step</code>, using these values of <code>matrices</code> and <code>vectors</code>, a total of <code>niterate</code> times, starting with that most recent iterate, and making each fresh iterate a new row of <code>coords_array</code>;</li>\n",
    "    <li>return the final value of <code>coords_array</code>, which should be a 2D array with dimensions <code>(niterate + 1)</code> by $2$.</li>\n",
    "</ul>"
   ]
  },
  {
   "cell_type": "code",
   "execution_count": 187,
   "metadata": {
    "deletable": false,
    "nbgrader": {
     "cell_type": "code",
     "checksum": "810a25ae8d854b55cfb596f81ce47a8e",
     "grade": false,
     "grade_id": "cell-5d14c0bc80e91162",
     "locked": false,
     "schema_version": 3,
     "solution": true,
     "task": false
    }
   },
   "outputs": [],
   "source": [
    "def iterate_ifs(matrices, vectors, coords0, nskip, niterate):\n",
    "    workingCoords = coords0\n",
    "    for x in range(nskip):\n",
    "        workingCoords = ifs_step(matrices, vectors, workingCoords)\n",
    "    coords_array = np.array([workingCoords])\n",
    "    for x in range(niterate):\n",
    "        workingCoords = ifs_step(matrices, vectors, workingCoords)\n",
    "        #print(workingCoords)\n",
    "        #print(coords_array)\n",
    "        coords_array = np.append(coords_array, [workingCoords], axis=0)\n",
    "    return coords_array\n",
    "\n",
    "\n",
    "#iterate_ifs(mats, vecs, np.array([0.5,0.5]), 10, 100)\n",
    "# test = np.array([[1,2],[3,4]])\n",
    "# print(test)\n",
    "# test = np.append(test, [[5],[6]], axis=1)\n",
    "# print(test)"
   ]
  },
  {
   "cell_type": "code",
   "execution_count": 188,
   "metadata": {
    "deletable": false,
    "editable": false,
    "nbgrader": {
     "cell_type": "code",
     "checksum": "aa67df42f899f368464c877822b3623b",
     "grade": true,
     "grade_id": "cell-fe82c19cc4286df2",
     "locked": true,
     "points": 1,
     "schema_version": 3,
     "solution": false,
     "task": false
    }
   },
   "outputs": [
    {
     "name": "stdout",
     "output_type": "stream",
     "text": [
      "Test passed!\n"
     ]
    },
    {
     "data": {
      "text/plain": [
       "1"
      ]
     },
     "execution_count": 188,
     "metadata": {},
     "output_type": "execute_result"
    }
   ],
   "source": [
    "# 1 Mark\n",
    "# Do not try to delete this cell\n",
    "# Run this cell for grading\n",
    "_globals = globals()\n",
    "question4b(_globals)"
   ]
  },
  {
   "cell_type": "markdown",
   "metadata": {
    "deletable": false,
    "editable": false,
    "nbgrader": {
     "cell_type": "markdown",
     "checksum": "bb38f952700643b64f46f0d5c30c96b4",
     "grade": false,
     "grade_id": "cell-cf3ba52035e5870d",
     "locked": true,
     "schema_version": 3,
     "solution": false,
     "task": false
    }
   },
   "source": [
    "(c) Write a function called `ifs_plot` which should take the same arguments as `iterate_ifs`, together with a keyword-only argument, `markersize`, with default value 0.5. It should then calculate the value of `iterate_ifs(matrices, vectors, coords0, nskip, niterate)`, as a 2D array with dimensions <code>(niterate + 1)</code> by $2$, and create a point plot using column 0 of this array for $x$-values, and column 1 for $y$-values. The marker size should be determined by the value of the keyword-only argument `markersize`. The figure size should be something sensible like 10 by 10, and the scales on the axes should be equal.\n",
    "\n",
    "Test your function using the matrices and vectors from part (a), with `nskip` set to 100 and `niterate` set to 10000. Choose a suitable marker size. Make the initial coordinates $(0.5, 0.5)$. Make the scales the same on both axes.\n",
    "\n",
    "Autograding will be no help here, but you ought to see quite an interesting plot."
   ]
  },
  {
   "cell_type": "code",
   "execution_count": 194,
   "metadata": {
    "deletable": false,
    "nbgrader": {
     "cell_type": "code",
     "checksum": "2908ef4a7c9d7e921e713824bd94e1a6",
     "grade": false,
     "grade_id": "cell-bc580958691bcd60",
     "locked": false,
     "schema_version": 3,
     "solution": true,
     "task": false
    }
   },
   "outputs": [
    {
     "data": {
      "image/png": "[encoded data removed]",
      "text/plain": [
       "<Figure size 432x288 with 1 Axes>"
      ]
     },
     "metadata": {
      "needs_background": "light"
     },
     "output_type": "display_data"
    }
   ],
   "source": [
    "def ifs_plot(matrices, vectors, coords0, nskip, niterate, *, markersize=0.5):\n",
    "    out = iterate_ifs(matrices, vectors, coords0, nskip, niterate)\n",
    "    fig = plt.figure()\n",
    "    ax = fig.add_subplot()\n",
    "    ax.axis(\"equal\")\n",
    "    ax.scatter(out[:,0], out[:,1], s=markersize)\n",
    "    \n",
    "ifs_plot(mats, vecs, np.array([0.5,0.5]), 100, 10000)"
   ]
  },
  {
   "cell_type": "markdown",
   "metadata": {
    "deletable": false,
    "editable": false,
    "nbgrader": {
     "cell_type": "markdown",
     "checksum": "ce9dc9fdb47dff48fef9f4b84a8a2522",
     "grade": false,
     "grade_id": "cell-535f006f6ec08df5",
     "locked": true,
     "schema_version": 3,
     "solution": false,
     "task": false
    }
   },
   "source": [
    "(d) Amend your `ifs_step` function so that it accepts an optional, keyword-only argument, called `weights`, whose default value `None`. If the value of `weights` is `None`, your function should do exactly the same as before (though not necessarily in exactly the same way). \n",
    "\n",
    "But optionally, the user may give `weights` a <em>list</em> as its value, such as `[1, 4, 2, 2]`. If she does this, the choice of matrix and vector is made with <em>weighted probabilities</em>; in this case $1/9$, $4/9$, $2/9$ and $2/9$ respectively.\n",
    "\n",
    "Test your new function."
   ]
  },
  {
   "cell_type": "code",
   "execution_count": 261,
   "metadata": {
    "deletable": false,
    "nbgrader": {
     "cell_type": "code",
     "checksum": "c47bc6986c57e33d46d069c6c72ca062",
     "grade": false,
     "grade_id": "cell-331cb1647fe3fa18",
     "locked": false,
     "schema_version": 3,
     "solution": true,
     "task": false
    }
   },
   "outputs": [],
   "source": [
    "def ifs_step(matrices, vectors, coords, *, weights=None):\n",
    "    n = np.shape(vecs)[0]\n",
    "    if weights==None:\n",
    "        index = np.random.randint(0,n)\n",
    "    else:\n",
    "        cumsum = np.cumsum(weights)\n",
    "        rand = np.random.randint(0,cumsum[-1])\n",
    "        for x in range(len(weights)):\n",
    "            if rand < cumsum[x]:\n",
    "                index = x\n",
    "                break\n",
    "    mat = matrices[index,:,:]\n",
    "    vec = vectors[index,:]\n",
    "    return (np.dot(mat, coords) + vec)\n",
    "        \n",
    "# test = [1,2,3,4,5]\n",
    "# cumsum = np.cumsum(test)\n",
    "# print(cumsum)\n",
    "# rand = np.random.randint(0,cumsum[-1])\n",
    "# print(rand)\n",
    "# print()\n",
    "# for x in range(len(test)):\n",
    "#     if rand < cumsum[x]:\n",
    "#         index = x\n",
    "#         print(index)\n",
    "#         break\n",
    "# print(test)\n",
    "# print(test[index])\n",
    "# print(np.cumsum(test))\n",
    "\n",
    "\n",
    "# print(ifs_step(mats, vecs, np.array([0.5,0.5])))"
   ]
  },
  {
   "cell_type": "code",
   "execution_count": 260,
   "metadata": {
    "deletable": false,
    "editable": false,
    "nbgrader": {
     "cell_type": "code",
     "checksum": "d11d49b6577d4cc8e4657f3bdab7caca",
     "grade": true,
     "grade_id": "cell-1bba6fa67d2c6e91",
     "locked": true,
     "points": 3,
     "schema_version": 3,
     "solution": false,
     "task": false
    }
   },
   "outputs": [
    {
     "name": "stdout",
     "output_type": "stream",
     "text": [
      "Testing with default weights\n",
      "Test passed!\n",
      "\n",
      "Testing with set weights: typical case\n",
      "Test passed!\n",
      "\n",
      "Testing with set weights: edge case\n",
      "Test passed!\n",
      "\n",
      "3 out of 3\n"
     ]
    },
    {
     "data": {
      "text/plain": [
       "3"
      ]
     },
     "execution_count": 260,
     "metadata": {},
     "output_type": "execute_result"
    }
   ],
   "source": [
    "# 3 Marks\n",
    "# Do not try to delete this cell\n",
    "# Run this cell for grading\n",
    "_globals = globals()\n",
    "question4d(_globals)"
   ]
  },
  {
   "cell_type": "markdown",
   "metadata": {
    "deletable": false,
    "editable": false,
    "nbgrader": {
     "cell_type": "markdown",
     "checksum": "e26ba0f256645b59ddac97f55bc3bc89",
     "grade": false,
     "grade_id": "cell-90967450e8de6505",
     "locked": true,
     "schema_version": 3,
     "solution": false,
     "task": false
    }
   },
   "source": [
    "(e) Amend your `iterate_ifs` and `ifs_plot` functions to accept and use the optional keyword-only argument `weights`, and test the latter using the transformation matrices\n",
    "\n",
    "$$\\left(\\begin{array}{cc}\n",
    "0.0&0.0\\\\0.0&0.16\\end{array}\\right),\n",
    "\\left(\\begin{array}{cc}\n",
    "0.85&0.04\\\\-0.04&0.85\\end{array}\\right),\n",
    "\\left(\\begin{array}{cc}\n",
    "0.20&-0.26\\\\0.23&0.22\\end{array}\\right),\n",
    "\\left(\\begin{array}{cc}\n",
    "-0.15&0.28\\\\0.26&0.24\\end{array}\\right)$$\n",
    "\n",
    "and the translation vectors\n",
    "\n",
    "$$\\left(\\begin{array}{c}\n",
    "0.0\\\\0.0\\end{array}\\right),\n",
    "\\left(\\begin{array}{c}\n",
    "0.0\\\\1.6\\end{array}\\right),\n",
    "\\left(\\begin{array}{c}\n",
    "0.0\\\\1.6\\end{array}\\right),\n",
    "\\left(\\begin{array}{c}\n",
    "0.0\\\\0.44\\end{array}\\right).$$\n",
    "\n",
    "The weights should be 1, 85, 7 and 7.\n",
    "\n",
    "Use an `nskip` value of 100, an `niterate` value of 50000 if you can (less if that takes ages). Again, the initial coordinates $(0.5, 0.5)$ should be fine.\n",
    "\n",
    "Autograding won't help with the final plot, but it ought to look really good."
   ]
  },
  {
   "cell_type": "code",
   "execution_count": 273,
   "metadata": {
    "deletable": false,
    "nbgrader": {
     "cell_type": "code",
     "checksum": "f45dd29ec7bff8300cacadb637a7d716",
     "grade": false,
     "grade_id": "cell-9da17aa155549a98",
     "locked": false,
     "schema_version": 3,
     "solution": true,
     "task": false
    }
   },
   "outputs": [],
   "source": [
    "def iterate_ifs(matrices, vectors, coords0, nskip, niterate, *, weights=None):\n",
    "    workingCoords = coords0\n",
    "    for x in range(nskip):\n",
    "        workingCoords = ifs_step(matrices, vectors, workingCoords, weights=weights)\n",
    "    coords_array = np.array([workingCoords])\n",
    "    for x in range(niterate):\n",
    "        workingCoords = ifs_step(matrices, vectors, workingCoords, weights=weights)\n",
    "        #print(workingCoords)\n",
    "        #print(coords_array)\n",
    "        coords_array = np.append(coords_array, [workingCoords], axis=0)\n",
    "    return coords_array\n",
    "\n",
    "#iterate_ifs(mats, vecs, np.array([0.5,0.5]), 10, 10)"
   ]
  },
  {
   "cell_type": "code",
   "execution_count": 272,
   "metadata": {
    "deletable": false,
    "editable": false,
    "nbgrader": {
     "cell_type": "code",
     "checksum": "75f0a6afe09ac28f3a5780bccbd63844",
     "grade": true,
     "grade_id": "cell-bf0a82655e5faa3e",
     "locked": true,
     "points": 3,
     "schema_version": 3,
     "solution": false,
     "task": false
    }
   },
   "outputs": [
    {
     "name": "stdout",
     "output_type": "stream",
     "text": [
      "Testing with default weights\n",
      "Test passed!\n",
      "\n",
      "Testing with set weights: typical case\n",
      "Test passed!\n",
      "\n",
      "Testing with set weights: edge case\n",
      "Test passed!\n",
      "\n",
      "3 out of 3\n"
     ]
    },
    {
     "data": {
      "text/plain": [
       "3"
      ]
     },
     "execution_count": 272,
     "metadata": {},
     "output_type": "execute_result"
    }
   ],
   "source": [
    "# For testing iterate_ifs\n",
    "# 3 Marks\n",
    "# Do not try to delete this cell\n",
    "# Run this cell for grading\n",
    "_globals = globals()\n",
    "question4e(_globals)"
   ]
  },
  {
   "cell_type": "code",
   "execution_count": 299,
   "metadata": {
    "deletable": false,
    "nbgrader": {
     "cell_type": "code",
     "checksum": "6973720377729a45bed2903d5a2f3960",
     "grade": false,
     "grade_id": "cell-f3911287c3952ecb",
     "locked": false,
     "schema_version": 3,
     "solution": true,
     "task": false
    }
   },
   "outputs": [
    {
     "data": {
      "image/png": "[encoded data removed]",
      "text/plain": [
       "<Figure size 432x288 with 1 Axes>"
      ]
     },
     "metadata": {
      "needs_background": "light"
     },
     "output_type": "display_data"
    }
   ],
   "source": [
    "def ifs_plot(matrices, vectors, coords0, nskip, niterate, *, markersize=0.5, weights=None):\n",
    "    out = iterate_ifs(matrices, vectors, coords0, nskip, niterate, weights=weights)\n",
    "    fig = plt.figure()\n",
    "    ax = fig.add_subplot()\n",
    "    ax.axis(\"equal\")\n",
    "    ax.scatter(out[:,0], out[:,1], s=markersize)\n",
    "\n",
    "matrix1 = np.array([[0,0],[0,0.16]])\n",
    "matrix2 = np.array([[0.85,0.04],[-0.04,0.85]])\n",
    "matrix3 = np.array([[0.2,-0.26],[0.23,0.22]])\n",
    "matrix4 = np.array([[-0.15,0.28],[0.26,0.24]])\n",
    "\n",
    "matrices = np.array([matrix1,matrix2,matrix3,matrix4])\n",
    "\n",
    "vector1 = np.array([0,0])\n",
    "vector2 = np.array([0,1.6])\n",
    "vector3 = np.array([0,1.6])\n",
    "vector4 = np.array([0,0.44])\n",
    "\n",
    "vectors = np.array([vector1,vector2,vector3,vector4])\n",
    "\n",
    "weights = [1,85,7,7]\n",
    "\n",
    "\n",
    "\n",
    "ifs_plot(matrices, vectors, np.array([0.5,0.5]), 100, 50000, weights=weights)"
   ]
  },
  {
   "cell_type": "markdown",
   "metadata": {
    "deletable": false,
    "editable": false,
    "nbgrader": {
     "cell_type": "markdown",
     "checksum": "cd0a699d20a7fc6d14d1a2652c4ae46a",
     "grade": false,
     "grade_id": "cell-f139bf500a2b6ce7",
     "locked": true,
     "schema_version": 3,
     "solution": false,
     "task": false
    }
   },
   "source": [
    "## Bonus Question\n",
    "\n",
    "Consider a list of integers denoting the positions of people queuing in a line, where the person in the front of the queue is integer 1, the second person 2, all the way to the last person in position $n$. In this queue, an individual can bribe the person directly in front of them and can at most make two bribes. Write a function that takes in a list of integers and determines the number of bribes required to get the queue into its current state. If the queue is not possible to achieve through the bribing mechanism described above, then the function should return the string `not possible`. \n",
    "\n",
    "**Example:**\n",
    "\n",
    "Given the input `[2, 1, 5, 3, 4]`, the function should return 3, this being the number of bribes to move from `[1, 2, 3, 4, 5]` to the given input."
   ]
  },
  {
   "cell_type": "code",
   "execution_count": null,
   "metadata": {
    "deletable": false,
    "nbgrader": {
     "cell_type": "code",
     "checksum": "497a6df1fd25e954ec73920d09b56eae",
     "grade": false,
     "grade_id": "cell-f1854e2dfb7cec21",
     "locked": false,
     "schema_version": 3,
     "solution": true,
     "task": false
    }
   },
   "outputs": [],
   "source": [
    "def queue_bribe(queue):\n",
    "    \"\"\"\n",
    "    Given an arrangement of the integers between 1 and n,\n",
    "    returns the number of transpositions needed to obtain\n",
    "    this arrangement, starting with [1, 2, ..., n], where\n",
    "    each element may migrate to the left a maximum of two\n",
    "    places.\n",
    "    \"\"\"\n",
    "    # YOUR CODE HERE\n",
    "    raise NotImplementedError()"
   ]
  },
  {
   "cell_type": "code",
   "execution_count": null,
   "metadata": {
    "deletable": false,
    "editable": false,
    "nbgrader": {
     "cell_type": "code",
     "checksum": "4ede8764aa8c31eb568565237dbbda82",
     "grade": true,
     "grade_id": "cell-c120655e8ffe380d",
     "locked": true,
     "points": 1,
     "schema_version": 3,
     "solution": false,
     "task": false
    }
   },
   "outputs": [],
   "source": [
    "# Run this test cell to check your code\n",
    "# Do not delete this cell\n",
    "# 1 mark\n",
    "# Unit test\n",
    "q = [2, 1, 5, 3, 4]\n",
    "tans = 3\n",
    "assert(queue_bribe(q) == tans)\n",
    "print('Test case passed!!!')"
   ]
  },
  {
   "cell_type": "code",
   "execution_count": null,
   "metadata": {
    "deletable": false,
    "editable": false,
    "nbgrader": {
     "cell_type": "code",
     "checksum": "13b370f38be16e759bd9c33b57825833",
     "grade": true,
     "grade_id": "cell-11db81758bc1a9a2",
     "locked": true,
     "points": 1,
     "schema_version": 3,
     "solution": false,
     "task": false
    }
   },
   "outputs": [],
   "source": [
    "# Run this test cell to check your code\n",
    "# Do not delete this cell\n",
    "# 1 mark\n",
    "# Unit test\n",
    "q = [2, 5, 1, 3, 4]\n",
    "tans = 'not possible'\n",
    "assert(queue_bribe(q) == tans)\n",
    "print('Test case passed!!!')"
   ]
  },
  {
   "cell_type": "code",
   "execution_count": null,
   "metadata": {
    "deletable": false,
    "editable": false,
    "nbgrader": {
     "cell_type": "code",
     "checksum": "ed64f5903903b31697ba2adf707124e3",
     "grade": true,
     "grade_id": "cell-64aac9242a875182",
     "locked": true,
     "points": 3,
     "schema_version": 3,
     "solution": false,
     "task": false
    }
   },
   "outputs": [],
   "source": [
    "# Hidden test\n",
    "# No output will be produced\n",
    "# 3 marks"
   ]
  },
  {
   "cell_type": "code",
   "execution_count": null,
   "metadata": {},
   "outputs": [],
   "source": []
  }
 ],
 "metadata": {
  "kernelspec": {
   "display_name": "Python 3",
   "language": "python",
   "name": "python3"
  },
  "language_info": {
   "codemirror_mode": {
    "name": "ipython",
    "version": 3
   },
   "file_extension": ".py",
   "mimetype": "text/x-python",
   "name": "python",
   "nbconvert_exporter": "python",
   "pygments_lexer": "ipython3",
   "version": "3.7.3"
  }
 },
 "nbformat": 4,
 "nbformat_minor": 5
}
